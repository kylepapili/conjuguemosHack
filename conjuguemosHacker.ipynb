{
 "cells": [
  {
   "cell_type": "code",
   "execution_count": 1,
   "metadata": {},
   "outputs": [],
   "source": [
    "import selenium\n",
    "import time\n",
    "import datetime\n",
    "from selenium import webdriver\n",
    "from selenium.webdriver.common.by import By\n",
    "from selenium.webdriver.support.ui import WebDriverWait\n",
    "from selenium.webdriver.common.keys import Keys\n",
    "from selenium.webdriver.common.action_chains import ActionChains\n",
    "from selenium.webdriver.support import expected_conditions as EC\n",
    "\n",
    "\n",
    "driver = webdriver.Firefox(executable_path = '/usr/local/bin/geckodriver')\n",
    "#Navigate to Page and Login\n",
    "driver.get(\"https://beta.conjuguemos.com/student/activities\")\n",
    "username = driver.find_element_by_xpath('//*[@id=\"identity\"]')\n",
    "password = driver.find_element_by_xpath('//*[@id=\"password\"]')\n",
    "username.send_keys(\"19_kpapili\")\n",
    "password.send_keys(\"!UbF$C9Av42Jd5V\")\n",
    "login_button = driver.find_element_by_xpath('//*[@id=\"login_btn\"]')\n",
    "login_button.click()\n",
    "\n",
    "#Select Library, preterit tense, regular verbs\n",
    "driver.find_element_by_xpath('/html/body/div[2]/div[2]/button').click()\n",
    "driver.find_element_by_xpath('/html/body/div[2]/div[2]/div/div/div[1]/ul[2]/li[2]/a').click()\n",
    "driver.find_element_by_xpath('/html/body/div[4]/div[2]/div[3]/div[8]/div/a').click()\n",
    "driver.find_element_by_xpath('//*[@id=\"practice\"]').click()\n",
    "driver.find_element_by_xpath('/html/body/div[1]/div[1]/div[2]/div/div').click()\n",
    "\n",
    "#Change timer to 10 mins\n",
    "time_box = driver.find_element_by_xpath('/html/body/x-modal[2]/div/input')\n",
    "time_box.send_keys(Keys.BACK_SPACE, \"1\")"
   ]
  },
  {
   "cell_type": "code",
   "execution_count": 2,
   "metadata": {},
   "outputs": [],
   "source": [
    "driver.find_element_by_xpath('/html/body/x-modal[2]/div/div[2]/button').click()"
   ]
  },
  {
   "cell_type": "code",
   "execution_count": 3,
   "metadata": {},
   "outputs": [],
   "source": [
    "time.sleep(2)\n",
    "driver.find_element_by_xpath('//*[@id=\"start-button\"]').click()"
   ]
  },
  {
   "cell_type": "code",
   "execution_count": 4,
   "metadata": {},
   "outputs": [],
   "source": [
    "pronoun_element = driver.find_element_by_xpath('//*[@id=\"pronoun-input\"]')\n",
    "verb_element = driver.find_element_by_xpath('//*[@id=\"verb-input\"]')"
   ]
  },
  {
   "cell_type": "code",
   "execution_count": null,
   "metadata": {},
   "outputs": [],
   "source": [
    "ar_endings = {\"yo\": \"é\", \"tú\": \"aste\", \"él\": \"ó\", \"ella\": \"ó\", \"usted\": \"ó\", \"nosotros\": \"amos\", \"vosotros\": \"asteis\", \"ellos\": \"aron\", \"ellas\": \"aron\", \"ustedes\": \"aron\"}\n",
    "er_endings = {\"yo\": \"í\", \"tú\": \"iste\", \"él\": \"ió\", \"ella\": \"ió\", \"usted\": \"ió\", \"nosotros\": \"imos\", \"vosotros\": \"isteis\", \"ellos\": \"ieron\", \"ellas\": \"ieron\", \"ustedes\": \"ieron\"}\n",
    "\n",
    "def conjugate(pronoun, verb):\n",
    "    char_array=[]\n",
    "    for c in verb:\n",
    "        char_array.append(c)\n",
    "    verb_type = char_array[len(char_array)-2]\n",
    "    #Determine the conjugations_dict to reffer to\n",
    "    if verb_type == \"a\": #AR Verb\n",
    "        conjugations_dict = ar_endings\n",
    "    elif verb_type == \"e\" or \"i\": #ER and IR Verbs\n",
    "        conjugations_dict = er_endings\n",
    "    else:\n",
    "        return \"error\"\n",
    "    #Check for correct ending\n",
    "    print(pronoun)\n",
    "    if pronoun in conjugations_dict.keys():\n",
    "        correct_ending = conjugations_dict.get(pronoun)\n",
    "    else:\n",
    "        #If the pronoun has ' y ' in it\n",
    "        is_plural_check=[]\n",
    "        is_plural = False\n",
    "        for c in pronoun:\n",
    "            if c == \" \" or c== \"y\" :\n",
    "                is_plural_check.append(c)\n",
    "            if is_plural_check == [\" \", \"y\", \" \"]:\n",
    "                is_plural = True\n",
    "        if is_plural: #Pronoun is plural\n",
    "            if \"yo\" in pronoun:\n",
    "                correct_ending = conjugations_dict.get(\"nosotros\")\n",
    "            else:\n",
    "                correct_ending = conjugations_dict.get(\"ellos\")\n",
    "        else: #Pronoun is singular\n",
    "            correct_ending = conjugations_dict.get(\"él\")\n",
    "    char_array.pop(len(char_array)-2)\n",
    "    char_array.pop(len(char_array)-1)\n",
    "    if(len(str(correct_ending)) > 1):\n",
    "        for c in correct_ending:\n",
    "            char_array.append(c)\n",
    "    else:\n",
    "        char_array.append(correct_ending)\n",
    "    return ''.join(char_array)"
   ]
  },
  {
   "cell_type": "code",
   "execution_count": null,
   "metadata": {},
   "outputs": [
    {
     "name": "stdout",
     "output_type": "stream",
     "text": [
      "Pablo\n",
      "Filemon y yo\n",
      "vosotros\n",
      "yo\n",
      "Ana\n",
      "tú\n",
      "Joaquín y Mortadelo\n",
      "ustedes\n"
     ]
    }
   ],
   "source": [
    "response = driver.find_element_by_xpath('//*[@id=\"answer-input\"]')\n",
    "\n",
    "for x in range(0,8): \n",
    "    pronoun = pronoun_element.get_attribute(\"innerText\")\n",
    "    verb = verb_element.get_attribute(\"innerText\")\n",
    "    answer = conjugate(pronoun, verb)\n",
    "    ActionChains(driver) \\\n",
    "    .key_down(Keys.COMMAND) \\\n",
    "    .key_down(\"a\") \\\n",
    "    .key_up(Keys.COMMAND) \\\n",
    "    .key_up(\"a\") \\\n",
    "    .perform()\n",
    "    response.send_keys(Keys.BACK_SPACE)\n",
    "    response.send_keys(answer, Keys.RETURN)"
   ]
  },
  {
   "cell_type": "code",
   "execution_count": null,
   "metadata": {},
   "outputs": [],
   "source": [
    "def get_sec(time_str):\n",
    "    m, s = time_str.split(':')\n",
    "    return int(m) * 60 + int(s)"
   ]
  },
  {
   "cell_type": "code",
   "execution_count": null,
   "metadata": {},
   "outputs": [
    {
     "name": "stdout",
     "output_type": "stream",
     "text": [
      "00:59\n"
     ]
    }
   ],
   "source": [
    "timerElement = driver.find_element_by_xpath('/html/body/div[1]/div[1]/div[2]/div/div')\n",
    "timeRemaining = timerElement.text\n",
    "print(timeRemaining)\n",
    "time.sleep(get_sec(timeRemaining)+5)"
   ]
  },
  {
   "cell_type": "code",
   "execution_count": null,
   "metadata": {},
   "outputs": [],
   "source": [
    "driver.find_element_by_xpath('//*[@id=\"scoreVerbModal\"]/div/div[3]/button[2]').click()"
   ]
  },
  {
   "cell_type": "code",
   "execution_count": null,
   "metadata": {},
   "outputs": [],
   "source": []
  }
 ],
 "metadata": {
  "kernelspec": {
   "display_name": "Python 3",
   "language": "python",
   "name": "python3"
  },
  "language_info": {
   "codemirror_mode": {
    "name": "ipython",
    "version": 3
   },
   "file_extension": ".py",
   "mimetype": "text/x-python",
   "name": "python",
   "nbconvert_exporter": "python",
   "pygments_lexer": "ipython3",
   "version": "3.7.1"
  }
 },
 "nbformat": 4,
 "nbformat_minor": 2
}
