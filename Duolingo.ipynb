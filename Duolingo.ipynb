{
 "cells": [
  {
   "cell_type": "code",
   "execution_count": 1,
   "metadata": {},
   "outputs": [],
   "source": [
    "import selenium\n",
    "import time\n",
    "from selenium import webdriver\n",
    "from selenium.webdriver.common.by import By\n",
    "from selenium.webdriver.support.ui import WebDriverWait\n",
    "from selenium.webdriver.common.keys import Keys\n",
    "from selenium.webdriver.common.action_chains import ActionChains\n",
    "from selenium.webdriver.support import expected_conditions as EC\n",
    "from selenium.webdriver.common.by import By\n",
    "from selenium.common.exceptions import TimeoutException\n",
    "from selenium.common.exceptions import TimeoutException"
   ]
  },
  {
   "cell_type": "code",
   "execution_count": 2,
   "metadata": {},
   "outputs": [],
   "source": [
    "def login(usrnm, pswd):\n",
    "    #Navigate to Page and Login\n",
    "    Driver.get(\"https://www.duolingo.com/\")\n",
    "    Driver.find_element_by_xpath('//*[@id=\"sign-in-btn\"]').click()\n",
    "    Driver.find_element_by_xpath('/html/body/div[5]/div/div/form/p/button[2]').click()\n",
    "    try:\n",
    "        element = WebDriverWait(Driver, delay).until(EC.presence_of_element_located((By.XPATH, '//*[@id=\"identifierId\"]')))\n",
    "    except TimeoutException:\n",
    "        print (\"Loading took too much time!\")\n",
    "\n",
    "    handles = Driver.window_handles\n",
    "    Driver.switch_to.window(handles[1])\n",
    "    username = Driver.find_element_by_xpath('//*[@id=\"identifierId\"]')\n",
    "    username.send_keys(usrnm, Keys.ENTER)\n",
    "\n",
    "    try:\n",
    "        password = WebDriverWait(Driver, delay).until(EC.presence_of_element_located((By.XPATH, '/html/body/div[1]/div[1]/div[2]/div[2]/div/div/div[2]/div/div[1]/div/form/content/section/div/content/div[1]/div[1]/div/div/div/div/div[1]/div/div[1]/input')))\n",
    "        login = WebDriverWait(Driver, delay).until(EC.presence_of_element_located((By.XPATH, '/html/body/div[1]/div[1]/div[2]/div[2]/div/div/div[2]/div/div[2]/div/div[1]/div/content/span')))\n",
    "        print (\"Page is ready!\")\n",
    "    except TimeoutException:\n",
    "        print (\"Loading took too much time!\")\n",
    "    password = Driver.find_element_by_xpath('/html/body/div[1]/div[1]/div[2]/div[2]/div/div/div[2]/div/div[1]/div/form/content/section/div/content/div[1]/div[1]/div/div/div/div/div[1]/div/div[1]/input')\n",
    "    password.send_keys(pswd)\n",
    "    time.sleep(1)\n",
    "    password.send_keys(Keys.ENTER)\n",
    "    Driver.switch_to.window(handles[0])\n",
    "    try:\n",
    "        profile = WebDriverWait(Driver, delay).until(EC.presence_of_element_located((By.XPATH, '/html/body/div[1]/div/div[1]/div/div[2]/div[4]/span[1]')))\n",
    "    except TimeoutException:\n",
    "        print(\"Loading took too much time!\")\n",
    "    return"
   ]
  },
  {
   "cell_type": "code",
   "execution_count": 3,
   "metadata": {},
   "outputs": [],
   "source": [
    "def findNextTaskXPath():\n",
    "    return \"/html/body/div[1]/div/div[2]/div/div[3]/div/div/div/div[12]/a[1]/div/div[1]/span/span\""
   ]
  },
  {
   "cell_type": "code",
   "execution_count": 4,
   "metadata": {},
   "outputs": [
    {
     "name": "stdout",
     "output_type": "stream",
     "text": [
      "Loading took too much time!\n",
      "Page is ready!\n"
     ]
    },
    {
     "data": {
      "text/plain": [
       "<selenium.webdriver.firefox.webelement.FirefoxWebElement (session=\"5d4ed544-5e35-8840-a379-97de91bddfd9\", element=\"2cd7325b-6bb6-e94e-b3fe-95f343622857\")>"
      ]
     },
     "execution_count": 4,
     "metadata": {},
     "output_type": "execute_result"
    }
   ],
   "source": [
    "Driver = webdriver.Firefox(executable_path = '/usr/local/bin/geckodriver')\n",
    "delay = 5 #5 second delay time\n",
    "login(\"19_kpapili@s.wmrhsd.org\", \"Lane2242\")"
   ]
  },
  {
   "cell_type": "code",
   "execution_count": 6,
   "metadata": {},
   "outputs": [],
   "source": [
    "Driver.find_element_by_xpath(findNextTaskXPath()).click() #This selects the next lesson\n",
    "Driver.find_element_by_xpath(\"/html/body/div[1]/div/div[2]/div/div[3]/div/div/div/div[12]/a[1]/div/div[3]/div/div[3]/button\").click() #Hits the start button\n"
   ]
  },
  {
   "cell_type": "code",
   "execution_count": 8,
   "metadata": {},
   "outputs": [],
   "source": [
    "question_text_element = Driver.find_element_by_xpath('/html/body/div[1]/div/div[1]/div/div/div[1]/div[2]/div/h1/span')\n",
    "question_text = question_text_element.text"
   ]
  },
  {
   "cell_type": "code",
   "execution_count": 12,
   "metadata": {},
   "outputs": [],
   "source": [
    "def questionTypeFrom(text):\n",
    "    if \"Select the word for\" in text:\n",
    "        return \"Select\""
   ]
  },
  {
   "cell_type": "code",
   "execution_count": 13,
   "metadata": {},
   "outputs": [
    {
     "data": {
      "text/plain": [
       "'Select'"
      ]
     },
     "execution_count": 13,
     "metadata": {},
     "output_type": "execute_result"
    }
   ],
   "source": [
    "questionTypeFrom(question_text)"
   ]
  },
  {
   "cell_type": "code",
   "execution_count": null,
   "metadata": {},
   "outputs": [],
   "source": []
  }
 ],
 "metadata": {
  "kernelspec": {
   "display_name": "Python 3",
   "language": "python",
   "name": "python3"
  },
  "language_info": {
   "codemirror_mode": {
    "name": "ipython",
    "version": 3
   },
   "file_extension": ".py",
   "mimetype": "text/x-python",
   "name": "python",
   "nbconvert_exporter": "python",
   "pygments_lexer": "ipython3",
   "version": "3.7.1"
  }
 },
 "nbformat": 4,
 "nbformat_minor": 2
}
